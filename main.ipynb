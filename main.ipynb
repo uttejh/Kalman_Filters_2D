{
  "nbformat": 4,
  "nbformat_minor": 0,
  "metadata": {
    "colab": {
      "name": "Untitled",
      "version": "0.3.2",
      "provenance": []
    },
    "kernelspec": {
      "name": "python3",
      "display_name": "Python 3"
    }
  },
  "cells": [
    {
      "cell_type": "code",
      "metadata": {
        "id": "I_IEvUIDSl1z",
        "colab_type": "code",
        "colab": {}
      },
      "source": [
        "import numpy as np\n",
        "import matplotlib.pyplot as plt"
      ],
      "execution_count": 0,
      "outputs": []
    },
    {
      "cell_type": "markdown",
      "metadata": {
        "id": "cdgMnhcdkRJC",
        "colab_type": "text"
      },
      "source": [
        ""
      ]
    },
    {
      "cell_type": "code",
      "metadata": {
        "id": "3yu_nZivaRal",
        "colab_type": "code",
        "colab": {}
      },
      "source": [
        "def kalman(x, P, measurement, R, motion, Q, F, H):\n",
        "  # distance between measured and current position-belief\n",
        "  y = np.matrix(measurement).T - H*x\n",
        "  \n",
        "  # residual covariance\n",
        "  S = H*P*H.T + R\n",
        "  \n",
        "  # Kalman gain\n",
        "  K = P*H.T*S.I\n",
        "  \n",
        "  x = x + K*y\n",
        "  \n",
        "  # Identity matrix\n",
        "  I = np.matrix(np.eye(F.shape[0]))\n",
        "  \n",
        "  P = (I - K*H)*P\n",
        "  \n",
        "  # Predict x, P\n",
        "  x = F*x + motion\n",
        "  P = F*P*F.T + Q\n",
        "  \n",
        "  return x, P"
      ],
      "execution_count": 0,
      "outputs": []
    },
    {
      "cell_type": "code",
      "metadata": {
        "id": "XbA8EGBuSn9E",
        "colab_type": "code",
        "colab": {}
      },
      "source": [
        "def kalman_xy(x, P, measurement, R):\n",
        "  motion = np.matrix(\"0. 0. 0. 0.\").T\n",
        "  Q = np.matrix(np.eye(4))\n",
        "  F = np.matrix('''\n",
        "  1. 0. 1. 0.;\n",
        "  0. 1. 0. 1.;\n",
        "  0. 0. 1. 0.;\n",
        "  0. 0. 0. 1.\n",
        "  ''')\n",
        "  H = np.matrix('''\n",
        "  1. 0. 0. 0.;\n",
        "  0. 1. 0. 0.\n",
        "  ''')\n",
        "  \n",
        "  return kalman(x, P, measurement, R, motion, Q, F, H)"
      ],
      "execution_count": 0,
      "outputs": []
    },
    {
      "cell_type": "code",
      "metadata": {
        "id": "9t8oASHZoS4K",
        "colab_type": "code",
        "colab": {}
      },
      "source": [
        "def main():\n",
        "  x = np.matrix('0. 0. 0. 0.').T\n",
        "  P = np.matrix(np.eye(4))*1000\n",
        "  \n",
        "  N = 20\n",
        "  \n",
        "  true_x = np.linspace(0.0, 10.0, N)\n",
        "  true_y = true_x**2\n",
        "  \n",
        "  obs_x = true_x + 0.05*np.random.random(N)*true_x\n",
        "  obs_y = true_y + 0.05*np.random.random(N)*true_y\n",
        "  \n",
        "  plt.plot(obs_x, obs_y, 'ro')\n",
        "  \n",
        "  result = []\n",
        "  \n",
        "  R = 0.01**2\n",
        "  \n",
        "  for meas in zip(obs_x, obs_y):\n",
        "    x, P = kalman_xy(x, P, meas, R)\n",
        "    result.append((x[:2]).tolist())\n",
        "\n",
        "  kalman_x, kalman_y = zip(*result)\n",
        "  \n",
        "  plt.plot(kalman_x, kalman_y, 'g-')\n",
        "  plt.show()\n",
        "  "
      ],
      "execution_count": 0,
      "outputs": []
    },
    {
      "cell_type": "code",
      "metadata": {
        "id": "4GioiJw3jEbB",
        "colab_type": "code",
        "outputId": "bc19fe64-3f32-4f56-e53a-7b11196e75e9",
        "colab": {
          "base_uri": "https://localhost:8080/",
          "height": 307
        }
      },
      "source": [
        "main()"
      ],
      "execution_count": 9,
      "outputs": [
        {
          "output_type": "stream",
          "text": [
            "[[[0.0], [0.0]], [[1.0692851200742683], [0.5638247159769281]], [[1.6361726719299572], [1.8442228328981602]], [[2.1003326479532487], [3.6992427434482638]], [[2.7414280553210792], [6.227741257030415]], [[3.3228895328535066], [9.283777071215013]], [[3.632102256905322], [13.36245790002414]], [[4.453776337412951], [16.688895342273984]], [[4.7174761950769835], [22.839574382724155]], [[5.492905859403017], [27.685187928146124]], [[6.004631034198459], [33.23137123277873]], [[6.338735568507249], [40.661302127978345]], [[7.228311620421358], [46.52672815996263]], [[7.71383006803715], [54.33030217459246]], [[8.18664238901116], [63.98394232774476]], [[8.501419544530785], [70.9166897361557]], [[9.297464810250377], [81.05335685863352]], [[9.90946620329192], [89.67648555970028]], [[9.93070859595956], [101.79566693737743]], [[10.776948217202037], [112.71477480614372]]]\n"
          ],
          "name": "stdout"
        },
        {
          "output_type": "display_data",
          "data": {
            "image/png": "[encoded data removed]",
            "text/plain": [
              "<Figure size 432x288 with 1 Axes>"
            ]
          },
          "metadata": {
            "tags": []
          }
        }
      ]
    },
    {
      "cell_type": "code",
      "metadata": {
        "id": "t9Ug6MVMkUrP",
        "colab_type": "code",
        "colab": {}
      },
      "source": [
        ""
      ],
      "execution_count": 0,
      "outputs": []
    }
  ]
}